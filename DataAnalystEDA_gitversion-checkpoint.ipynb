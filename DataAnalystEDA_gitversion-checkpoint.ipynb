{
 "cells": [
  {
   "cell_type": "markdown",
   "id": "18dcbbd8",
   "metadata": {},
   "source": [
    "## Welcome to my first data analysis project using the python language. Below are the questions I would like to answer with this analysis and all the steps to do so, in the most detailed way possible.\n"
   ]
  },
  {
   "cell_type": "markdown",
   "id": "2b025e14",
   "metadata": {},
   "source": [
    "I'm new to data - professionally - so I do not know a lot about the job market. \n",
    "For this reason, in addition to looking for jobs and salaries on the internet, I decided to combine my studies with curiosity (necessary, by the way) in relation to job offers for data analysts.\n",
    "\n",
    "What would I like to know from this analysis?\n",
    "\n",
    "1-Which sectors offer job for data analysts?\n",
    "2-What is the size of the companies?\n",
    "3-Is there a relationship between the company's sector and the rating? \n",
    "4-And between the salary and the company's revenue?\n",
    "5-'Remote' and 'homeoffice' are explicited on the job description?\n",
    "6-Have companies enabled the 'easy apply' feature? If so, is there any relationship between age of the company x easy apply?"
   ]
  },
  {
   "cell_type": "code",
   "execution_count": 3,
   "id": "c5cce395",
   "metadata": {},
   "outputs": [],
   "source": [
    "##importing the libraries needed \n",
    "\n",
    "import pandas as pd\n",
    "import matplotlib.pyplot as plt\n",
    "import plotly.express as px\n",
    "import seaborn as sns\n",
    "import numpy as np"
   ]
  },
  {
   "cell_type": "code",
   "execution_count": 4,
   "id": "e86d4e84",
   "metadata": {},
   "outputs": [],
   "source": [
    "##reading the data set\n",
    "df = pd.read_csv(path)\n"
   ]
  },
  {
   "cell_type": "code",
   "execution_count": 5,
   "id": "fd2fbea6",
   "metadata": {},
   "outputs": [
    {
     "data": {
      "text/html": [
       "<div>\n",
       "<style scoped>\n",
       "    .dataframe tbody tr th:only-of-type {\n",
       "        vertical-align: middle;\n",
       "    }\n",
       "\n",
       "    .dataframe tbody tr th {\n",
       "        vertical-align: top;\n",
       "    }\n",
       "\n",
       "    .dataframe thead th {\n",
       "        text-align: right;\n",
       "    }\n",
       "</style>\n",
       "<table border=\"1\" class=\"dataframe\">\n",
       "  <thead>\n",
       "    <tr style=\"text-align: right;\">\n",
       "      <th></th>\n",
       "      <th>Unnamed: 0</th>\n",
       "      <th>Job Title</th>\n",
       "      <th>Salary Estimate</th>\n",
       "      <th>Job Description</th>\n",
       "      <th>Rating</th>\n",
       "      <th>Company Name</th>\n",
       "      <th>Location</th>\n",
       "      <th>Headquarters</th>\n",
       "      <th>Size</th>\n",
       "      <th>Founded</th>\n",
       "      <th>Type of ownership</th>\n",
       "      <th>Industry</th>\n",
       "      <th>Sector</th>\n",
       "      <th>Revenue</th>\n",
       "      <th>Competitors</th>\n",
       "      <th>Easy Apply</th>\n",
       "    </tr>\n",
       "  </thead>\n",
       "  <tbody>\n",
       "    <tr>\n",
       "      <th>0</th>\n",
       "      <td>0</td>\n",
       "      <td>Data Analyst, Center on Immigration and Justic...</td>\n",
       "      <td>$37K-$66K (Glassdoor est.)</td>\n",
       "      <td>Are you eager to roll up your sleeves and harn...</td>\n",
       "      <td>3.2</td>\n",
       "      <td>Vera Institute of Justice\\n3.2</td>\n",
       "      <td>New York, NY</td>\n",
       "      <td>New York, NY</td>\n",
       "      <td>201 to 500 employees</td>\n",
       "      <td>1961</td>\n",
       "      <td>Nonprofit Organization</td>\n",
       "      <td>Social Assistance</td>\n",
       "      <td>Non-Profit</td>\n",
       "      <td>$100 to $500 million (USD)</td>\n",
       "      <td>-1</td>\n",
       "      <td>True</td>\n",
       "    </tr>\n",
       "    <tr>\n",
       "      <th>1</th>\n",
       "      <td>1</td>\n",
       "      <td>Quality Data Analyst</td>\n",
       "      <td>$37K-$66K (Glassdoor est.)</td>\n",
       "      <td>Overview\\n\\nProvides analytical and technical ...</td>\n",
       "      <td>3.8</td>\n",
       "      <td>Visiting Nurse Service of New York\\n3.8</td>\n",
       "      <td>New York, NY</td>\n",
       "      <td>New York, NY</td>\n",
       "      <td>10000+ employees</td>\n",
       "      <td>1893</td>\n",
       "      <td>Nonprofit Organization</td>\n",
       "      <td>Health Care Services &amp; Hospitals</td>\n",
       "      <td>Health Care</td>\n",
       "      <td>$2 to $5 billion (USD)</td>\n",
       "      <td>-1</td>\n",
       "      <td>-1</td>\n",
       "    </tr>\n",
       "    <tr>\n",
       "      <th>2</th>\n",
       "      <td>2</td>\n",
       "      <td>Senior Data Analyst, Insights &amp; Analytics Team...</td>\n",
       "      <td>$37K-$66K (Glassdoor est.)</td>\n",
       "      <td>We’re looking for a Senior Data Analyst who ha...</td>\n",
       "      <td>3.4</td>\n",
       "      <td>Squarespace\\n3.4</td>\n",
       "      <td>New York, NY</td>\n",
       "      <td>New York, NY</td>\n",
       "      <td>1001 to 5000 employees</td>\n",
       "      <td>2003</td>\n",
       "      <td>Company - Private</td>\n",
       "      <td>Internet</td>\n",
       "      <td>Information Technology</td>\n",
       "      <td>Unknown / Non-Applicable</td>\n",
       "      <td>GoDaddy</td>\n",
       "      <td>-1</td>\n",
       "    </tr>\n",
       "    <tr>\n",
       "      <th>3</th>\n",
       "      <td>3</td>\n",
       "      <td>Data Analyst</td>\n",
       "      <td>$37K-$66K (Glassdoor est.)</td>\n",
       "      <td>Requisition NumberRR-0001939\\nRemote:Yes\\nWe c...</td>\n",
       "      <td>4.1</td>\n",
       "      <td>Celerity\\n4.1</td>\n",
       "      <td>New York, NY</td>\n",
       "      <td>McLean, VA</td>\n",
       "      <td>201 to 500 employees</td>\n",
       "      <td>2002</td>\n",
       "      <td>Subsidiary or Business Segment</td>\n",
       "      <td>IT Services</td>\n",
       "      <td>Information Technology</td>\n",
       "      <td>$50 to $100 million (USD)</td>\n",
       "      <td>-1</td>\n",
       "      <td>-1</td>\n",
       "    </tr>\n",
       "    <tr>\n",
       "      <th>4</th>\n",
       "      <td>4</td>\n",
       "      <td>Reporting Data Analyst</td>\n",
       "      <td>$37K-$66K (Glassdoor est.)</td>\n",
       "      <td>ABOUT FANDUEL GROUP\\n\\nFanDuel Group is a worl...</td>\n",
       "      <td>3.9</td>\n",
       "      <td>FanDuel\\n3.9</td>\n",
       "      <td>New York, NY</td>\n",
       "      <td>New York, NY</td>\n",
       "      <td>501 to 1000 employees</td>\n",
       "      <td>2009</td>\n",
       "      <td>Company - Private</td>\n",
       "      <td>Sports &amp; Recreation</td>\n",
       "      <td>Arts, Entertainment &amp; Recreation</td>\n",
       "      <td>$100 to $500 million (USD)</td>\n",
       "      <td>DraftKings</td>\n",
       "      <td>True</td>\n",
       "    </tr>\n",
       "  </tbody>\n",
       "</table>\n",
       "</div>"
      ],
      "text/plain": [
       "   Unnamed: 0                                          Job Title  \\\n",
       "0           0  Data Analyst, Center on Immigration and Justic...   \n",
       "1           1                               Quality Data Analyst   \n",
       "2           2  Senior Data Analyst, Insights & Analytics Team...   \n",
       "3           3                                       Data Analyst   \n",
       "4           4                             Reporting Data Analyst   \n",
       "\n",
       "              Salary Estimate  \\\n",
       "0  $37K-$66K (Glassdoor est.)   \n",
       "1  $37K-$66K (Glassdoor est.)   \n",
       "2  $37K-$66K (Glassdoor est.)   \n",
       "3  $37K-$66K (Glassdoor est.)   \n",
       "4  $37K-$66K (Glassdoor est.)   \n",
       "\n",
       "                                     Job Description  Rating  \\\n",
       "0  Are you eager to roll up your sleeves and harn...     3.2   \n",
       "1  Overview\\n\\nProvides analytical and technical ...     3.8   \n",
       "2  We’re looking for a Senior Data Analyst who ha...     3.4   \n",
       "3  Requisition NumberRR-0001939\\nRemote:Yes\\nWe c...     4.1   \n",
       "4  ABOUT FANDUEL GROUP\\n\\nFanDuel Group is a worl...     3.9   \n",
       "\n",
       "                              Company Name      Location  Headquarters  \\\n",
       "0           Vera Institute of Justice\\n3.2  New York, NY  New York, NY   \n",
       "1  Visiting Nurse Service of New York\\n3.8  New York, NY  New York, NY   \n",
       "2                         Squarespace\\n3.4  New York, NY  New York, NY   \n",
       "3                            Celerity\\n4.1  New York, NY    McLean, VA   \n",
       "4                             FanDuel\\n3.9  New York, NY  New York, NY   \n",
       "\n",
       "                     Size  Founded               Type of ownership  \\\n",
       "0    201 to 500 employees     1961          Nonprofit Organization   \n",
       "1        10000+ employees     1893          Nonprofit Organization   \n",
       "2  1001 to 5000 employees     2003               Company - Private   \n",
       "3    201 to 500 employees     2002  Subsidiary or Business Segment   \n",
       "4   501 to 1000 employees     2009               Company - Private   \n",
       "\n",
       "                           Industry                            Sector  \\\n",
       "0                 Social Assistance                        Non-Profit   \n",
       "1  Health Care Services & Hospitals                       Health Care   \n",
       "2                          Internet            Information Technology   \n",
       "3                       IT Services            Information Technology   \n",
       "4               Sports & Recreation  Arts, Entertainment & Recreation   \n",
       "\n",
       "                      Revenue Competitors Easy Apply  \n",
       "0  $100 to $500 million (USD)          -1       True  \n",
       "1      $2 to $5 billion (USD)          -1         -1  \n",
       "2    Unknown / Non-Applicable     GoDaddy         -1  \n",
       "3   $50 to $100 million (USD)          -1         -1  \n",
       "4  $100 to $500 million (USD)  DraftKings       True  "
      ]
     },
     "execution_count": 5,
     "metadata": {},
     "output_type": "execute_result"
    }
   ],
   "source": [
    "df.head()"
   ]
  },
  {
   "cell_type": "code",
   "execution_count": 6,
   "id": "35d82f87",
   "metadata": {},
   "outputs": [],
   "source": [
    "##making a copy\n",
    "df_copy = df.copy()"
   ]
  },
  {
   "cell_type": "code",
   "execution_count": 7,
   "id": "839d1f49",
   "metadata": {},
   "outputs": [
    {
     "data": {
      "text/html": [
       "<div>\n",
       "<style scoped>\n",
       "    .dataframe tbody tr th:only-of-type {\n",
       "        vertical-align: middle;\n",
       "    }\n",
       "\n",
       "    .dataframe tbody tr th {\n",
       "        vertical-align: top;\n",
       "    }\n",
       "\n",
       "    .dataframe thead th {\n",
       "        text-align: right;\n",
       "    }\n",
       "</style>\n",
       "<table border=\"1\" class=\"dataframe\">\n",
       "  <thead>\n",
       "    <tr style=\"text-align: right;\">\n",
       "      <th></th>\n",
       "      <th>Unnamed: 0</th>\n",
       "      <th>Job Title</th>\n",
       "      <th>Salary Estimate</th>\n",
       "      <th>Job Description</th>\n",
       "      <th>Rating</th>\n",
       "      <th>Company Name</th>\n",
       "      <th>Location</th>\n",
       "      <th>Headquarters</th>\n",
       "      <th>Size</th>\n",
       "      <th>Founded</th>\n",
       "      <th>Type of ownership</th>\n",
       "      <th>Industry</th>\n",
       "      <th>Sector</th>\n",
       "      <th>Revenue</th>\n",
       "      <th>Competitors</th>\n",
       "      <th>Easy Apply</th>\n",
       "    </tr>\n",
       "  </thead>\n",
       "  <tbody>\n",
       "    <tr>\n",
       "      <th>0</th>\n",
       "      <td>0</td>\n",
       "      <td>Data Analyst, Center on Immigration and Justic...</td>\n",
       "      <td>$37K-$66K (Glassdoor est.)</td>\n",
       "      <td>Are you eager to roll up your sleeves and harn...</td>\n",
       "      <td>3.2</td>\n",
       "      <td>Vera Institute of Justice\\n3.2</td>\n",
       "      <td>New York, NY</td>\n",
       "      <td>New York, NY</td>\n",
       "      <td>201 to 500 employees</td>\n",
       "      <td>1961</td>\n",
       "      <td>Nonprofit Organization</td>\n",
       "      <td>Social Assistance</td>\n",
       "      <td>Non-Profit</td>\n",
       "      <td>$100 to $500 million (USD)</td>\n",
       "      <td>-1</td>\n",
       "      <td>True</td>\n",
       "    </tr>\n",
       "    <tr>\n",
       "      <th>1</th>\n",
       "      <td>1</td>\n",
       "      <td>Quality Data Analyst</td>\n",
       "      <td>$37K-$66K (Glassdoor est.)</td>\n",
       "      <td>Overview\\n\\nProvides analytical and technical ...</td>\n",
       "      <td>3.8</td>\n",
       "      <td>Visiting Nurse Service of New York\\n3.8</td>\n",
       "      <td>New York, NY</td>\n",
       "      <td>New York, NY</td>\n",
       "      <td>10000+ employees</td>\n",
       "      <td>1893</td>\n",
       "      <td>Nonprofit Organization</td>\n",
       "      <td>Health Care Services &amp; Hospitals</td>\n",
       "      <td>Health Care</td>\n",
       "      <td>$2 to $5 billion (USD)</td>\n",
       "      <td>-1</td>\n",
       "      <td>-1</td>\n",
       "    </tr>\n",
       "    <tr>\n",
       "      <th>2</th>\n",
       "      <td>2</td>\n",
       "      <td>Senior Data Analyst, Insights &amp; Analytics Team...</td>\n",
       "      <td>$37K-$66K (Glassdoor est.)</td>\n",
       "      <td>We’re looking for a Senior Data Analyst who ha...</td>\n",
       "      <td>3.4</td>\n",
       "      <td>Squarespace\\n3.4</td>\n",
       "      <td>New York, NY</td>\n",
       "      <td>New York, NY</td>\n",
       "      <td>1001 to 5000 employees</td>\n",
       "      <td>2003</td>\n",
       "      <td>Company - Private</td>\n",
       "      <td>Internet</td>\n",
       "      <td>Information Technology</td>\n",
       "      <td>Unknown / Non-Applicable</td>\n",
       "      <td>GoDaddy</td>\n",
       "      <td>-1</td>\n",
       "    </tr>\n",
       "    <tr>\n",
       "      <th>3</th>\n",
       "      <td>3</td>\n",
       "      <td>Data Analyst</td>\n",
       "      <td>$37K-$66K (Glassdoor est.)</td>\n",
       "      <td>Requisition NumberRR-0001939\\nRemote:Yes\\nWe c...</td>\n",
       "      <td>4.1</td>\n",
       "      <td>Celerity\\n4.1</td>\n",
       "      <td>New York, NY</td>\n",
       "      <td>McLean, VA</td>\n",
       "      <td>201 to 500 employees</td>\n",
       "      <td>2002</td>\n",
       "      <td>Subsidiary or Business Segment</td>\n",
       "      <td>IT Services</td>\n",
       "      <td>Information Technology</td>\n",
       "      <td>$50 to $100 million (USD)</td>\n",
       "      <td>-1</td>\n",
       "      <td>-1</td>\n",
       "    </tr>\n",
       "    <tr>\n",
       "      <th>4</th>\n",
       "      <td>4</td>\n",
       "      <td>Reporting Data Analyst</td>\n",
       "      <td>$37K-$66K (Glassdoor est.)</td>\n",
       "      <td>ABOUT FANDUEL GROUP\\n\\nFanDuel Group is a worl...</td>\n",
       "      <td>3.9</td>\n",
       "      <td>FanDuel\\n3.9</td>\n",
       "      <td>New York, NY</td>\n",
       "      <td>New York, NY</td>\n",
       "      <td>501 to 1000 employees</td>\n",
       "      <td>2009</td>\n",
       "      <td>Company - Private</td>\n",
       "      <td>Sports &amp; Recreation</td>\n",
       "      <td>Arts, Entertainment &amp; Recreation</td>\n",
       "      <td>$100 to $500 million (USD)</td>\n",
       "      <td>DraftKings</td>\n",
       "      <td>True</td>\n",
       "    </tr>\n",
       "  </tbody>\n",
       "</table>\n",
       "</div>"
      ],
      "text/plain": [
       "   Unnamed: 0                                          Job Title  \\\n",
       "0           0  Data Analyst, Center on Immigration and Justic...   \n",
       "1           1                               Quality Data Analyst   \n",
       "2           2  Senior Data Analyst, Insights & Analytics Team...   \n",
       "3           3                                       Data Analyst   \n",
       "4           4                             Reporting Data Analyst   \n",
       "\n",
       "              Salary Estimate  \\\n",
       "0  $37K-$66K (Glassdoor est.)   \n",
       "1  $37K-$66K (Glassdoor est.)   \n",
       "2  $37K-$66K (Glassdoor est.)   \n",
       "3  $37K-$66K (Glassdoor est.)   \n",
       "4  $37K-$66K (Glassdoor est.)   \n",
       "\n",
       "                                     Job Description  Rating  \\\n",
       "0  Are you eager to roll up your sleeves and harn...     3.2   \n",
       "1  Overview\\n\\nProvides analytical and technical ...     3.8   \n",
       "2  We’re looking for a Senior Data Analyst who ha...     3.4   \n",
       "3  Requisition NumberRR-0001939\\nRemote:Yes\\nWe c...     4.1   \n",
       "4  ABOUT FANDUEL GROUP\\n\\nFanDuel Group is a worl...     3.9   \n",
       "\n",
       "                              Company Name      Location  Headquarters  \\\n",
       "0           Vera Institute of Justice\\n3.2  New York, NY  New York, NY   \n",
       "1  Visiting Nurse Service of New York\\n3.8  New York, NY  New York, NY   \n",
       "2                         Squarespace\\n3.4  New York, NY  New York, NY   \n",
       "3                            Celerity\\n4.1  New York, NY    McLean, VA   \n",
       "4                             FanDuel\\n3.9  New York, NY  New York, NY   \n",
       "\n",
       "                     Size  Founded               Type of ownership  \\\n",
       "0    201 to 500 employees     1961          Nonprofit Organization   \n",
       "1        10000+ employees     1893          Nonprofit Organization   \n",
       "2  1001 to 5000 employees     2003               Company - Private   \n",
       "3    201 to 500 employees     2002  Subsidiary or Business Segment   \n",
       "4   501 to 1000 employees     2009               Company - Private   \n",
       "\n",
       "                           Industry                            Sector  \\\n",
       "0                 Social Assistance                        Non-Profit   \n",
       "1  Health Care Services & Hospitals                       Health Care   \n",
       "2                          Internet            Information Technology   \n",
       "3                       IT Services            Information Technology   \n",
       "4               Sports & Recreation  Arts, Entertainment & Recreation   \n",
       "\n",
       "                      Revenue Competitors Easy Apply  \n",
       "0  $100 to $500 million (USD)          -1       True  \n",
       "1      $2 to $5 billion (USD)          -1         -1  \n",
       "2    Unknown / Non-Applicable     GoDaddy         -1  \n",
       "3   $50 to $100 million (USD)          -1         -1  \n",
       "4  $100 to $500 million (USD)  DraftKings       True  "
      ]
     },
     "execution_count": 7,
     "metadata": {},
     "output_type": "execute_result"
    }
   ],
   "source": [
    "df_copy.head()"
   ]
  },
  {
   "cell_type": "code",
   "execution_count": 8,
   "id": "74d9ddf6",
   "metadata": {},
   "outputs": [
    {
     "name": "stdout",
     "output_type": "stream",
     "text": [
      "This dataset has 2253 rows and 16 columns\n"
     ]
    }
   ],
   "source": [
    "print(f\"This dataset has {df_copy.shape[0]} rows and {df_copy.shape[1]} columns\")"
   ]
  },
  {
   "cell_type": "code",
   "execution_count": 9,
   "id": "78790e06",
   "metadata": {},
   "outputs": [
    {
     "data": {
      "text/plain": [
       "Unnamed: 0             int64\n",
       "Job Title             object\n",
       "Salary Estimate       object\n",
       "Job Description       object\n",
       "Rating               float64\n",
       "Company Name          object\n",
       "Location              object\n",
       "Headquarters          object\n",
       "Size                  object\n",
       "Founded                int64\n",
       "Type of ownership     object\n",
       "Industry              object\n",
       "Sector                object\n",
       "Revenue               object\n",
       "Competitors           object\n",
       "Easy Apply            object\n",
       "dtype: object"
      ]
     },
     "execution_count": 9,
     "metadata": {},
     "output_type": "execute_result"
    }
   ],
   "source": [
    "##looking at the data types\n",
    "df_copy.dtypes"
   ]
  },
  {
   "cell_type": "code",
   "execution_count": 10,
   "id": "ef0d1da9",
   "metadata": {},
   "outputs": [
    {
     "data": {
      "text/html": [
       "<div>\n",
       "<style scoped>\n",
       "    .dataframe tbody tr th:only-of-type {\n",
       "        vertical-align: middle;\n",
       "    }\n",
       "\n",
       "    .dataframe tbody tr th {\n",
       "        vertical-align: top;\n",
       "    }\n",
       "\n",
       "    .dataframe thead th {\n",
       "        text-align: right;\n",
       "    }\n",
       "</style>\n",
       "<table border=\"1\" class=\"dataframe\">\n",
       "  <thead>\n",
       "    <tr style=\"text-align: right;\">\n",
       "      <th></th>\n",
       "      <th>Unnamed: 0</th>\n",
       "      <th>Rating</th>\n",
       "      <th>Founded</th>\n",
       "    </tr>\n",
       "  </thead>\n",
       "  <tbody>\n",
       "    <tr>\n",
       "      <th>count</th>\n",
       "      <td>2253.0000</td>\n",
       "      <td>2253.000000</td>\n",
       "      <td>2253.000000</td>\n",
       "    </tr>\n",
       "    <tr>\n",
       "      <th>mean</th>\n",
       "      <td>1126.0000</td>\n",
       "      <td>3.160630</td>\n",
       "      <td>1398.522858</td>\n",
       "    </tr>\n",
       "    <tr>\n",
       "      <th>std</th>\n",
       "      <td>650.5294</td>\n",
       "      <td>1.665228</td>\n",
       "      <td>901.929251</td>\n",
       "    </tr>\n",
       "    <tr>\n",
       "      <th>min</th>\n",
       "      <td>0.0000</td>\n",
       "      <td>-1.000000</td>\n",
       "      <td>-1.000000</td>\n",
       "    </tr>\n",
       "    <tr>\n",
       "      <th>25%</th>\n",
       "      <td>563.0000</td>\n",
       "      <td>3.100000</td>\n",
       "      <td>-1.000000</td>\n",
       "    </tr>\n",
       "    <tr>\n",
       "      <th>50%</th>\n",
       "      <td>1126.0000</td>\n",
       "      <td>3.600000</td>\n",
       "      <td>1979.000000</td>\n",
       "    </tr>\n",
       "    <tr>\n",
       "      <th>75%</th>\n",
       "      <td>1689.0000</td>\n",
       "      <td>4.000000</td>\n",
       "      <td>2002.000000</td>\n",
       "    </tr>\n",
       "    <tr>\n",
       "      <th>max</th>\n",
       "      <td>2252.0000</td>\n",
       "      <td>5.000000</td>\n",
       "      <td>2019.000000</td>\n",
       "    </tr>\n",
       "  </tbody>\n",
       "</table>\n",
       "</div>"
      ],
      "text/plain": [
       "       Unnamed: 0       Rating      Founded\n",
       "count   2253.0000  2253.000000  2253.000000\n",
       "mean    1126.0000     3.160630  1398.522858\n",
       "std      650.5294     1.665228   901.929251\n",
       "min        0.0000    -1.000000    -1.000000\n",
       "25%      563.0000     3.100000    -1.000000\n",
       "50%     1126.0000     3.600000  1979.000000\n",
       "75%     1689.0000     4.000000  2002.000000\n",
       "max     2252.0000     5.000000  2019.000000"
      ]
     },
     "execution_count": 10,
     "metadata": {},
     "output_type": "execute_result"
    }
   ],
   "source": [
    "##basic stats about int datas\n",
    "df_copy.describe()"
   ]
  },
  {
   "cell_type": "code",
   "execution_count": 11,
   "id": "67f80889",
   "metadata": {},
   "outputs": [
    {
     "name": "stdout",
     "output_type": "stream",
     "text": [
      "Unnamed: 0           False\n",
      "Job Title            False\n",
      "Salary Estimate      False\n",
      "Job Description      False\n",
      "Rating               False\n",
      "Company Name          True\n",
      "Location             False\n",
      "Headquarters         False\n",
      "Size                 False\n",
      "Founded              False\n",
      "Type of ownership    False\n",
      "Industry             False\n",
      "Sector               False\n",
      "Revenue              False\n",
      "Competitors          False\n",
      "Easy Apply           False\n",
      "dtype: bool\n"
     ]
    }
   ],
   "source": [
    "##et's check if there is columns with null values. if so, it will be important to think of a strategy to deal with this condition.\n",
    "##why? Null values can be a problem for some analyses. Remember, it all depends on the goal.\n",
    "null_columns = df_copy.isnull().any()\n",
    "print(null_columns)"
   ]
  },
  {
   "cell_type": "code",
   "execution_count": 12,
   "id": "c3baf6b5",
   "metadata": {},
   "outputs": [
    {
     "name": "stdout",
     "output_type": "stream",
     "text": [
      "Index(['Company Name'], dtype='object')\n"
     ]
    }
   ],
   "source": [
    "null_columns = null_columns[null_columns == True]\n",
    "print(null_columns.index)"
   ]
  },
  {
   "cell_type": "markdown",
   "id": "b62915b8",
   "metadata": {},
   "source": [
    "Great. There is Null Values on 'Company Name', which just doesn't matter right now. Let's go ahead. \n",
    "\n",
    "Let's answer the first question:\n",
    "\n",
    "1-Which sectors offer job for data analysts?"
   ]
  },
  {
   "cell_type": "code",
   "execution_count": 13,
   "id": "cd17250f",
   "metadata": {},
   "outputs": [
    {
     "data": {
      "text/plain": [
       "Information Technology                570\n",
       "Business Services                     524\n",
       "-1                                    353\n",
       "Finance                               169\n",
       "Health Care                           151\n",
       "Education                              52\n",
       "Insurance                              51\n",
       "Accounting & Legal                     43\n",
       "Media                                  42\n",
       "Manufacturing                          40\n",
       "Retail                                 38\n",
       "Government                             36\n",
       "Biotech & Pharmaceuticals              33\n",
       "Non-Profit                             26\n",
       "Aerospace & Defense                    22\n",
       "Transportation & Logistics             20\n",
       "Construction, Repair & Maintenance     16\n",
       "Consumer Services                      14\n",
       "Oil, Gas, Energy & Utilities           13\n",
       "Real Estate                            12\n",
       "Telecommunications                     11\n",
       "Restaurants, Bars & Food Services       8\n",
       "Arts, Entertainment & Recreation        7\n",
       "Mining & Metals                         1\n",
       "Travel & Tourism                        1\n",
       "Name: Sector, dtype: int64"
      ]
     },
     "execution_count": 13,
     "metadata": {},
     "output_type": "execute_result"
    }
   ],
   "source": [
    "##taking a look at the occurency from each value\n",
    "df_copy['Sector'].value_counts()"
   ]
  },
  {
   "cell_type": "code",
   "execution_count": 14,
   "id": "97c2b5bc",
   "metadata": {},
   "outputs": [],
   "source": [
    "##'-1' are commonly different than 'null' values. \n",
    "##but, in this case, I think it is the same thing, that is, it means nothing for my analysis. \n",
    "##I would say that, in this situation, these are the cases in which the company prefers to remain 'hidden' for whatever reason.\n",
    "##I am going to drop it to plot a clear chart.\n",
    "df_copy = df_copy[df_copy['Sector'] != '-1']"
   ]
  },
  {
   "cell_type": "code",
   "execution_count": 15,
   "id": "75ba33f6",
   "metadata": {
    "scrolled": true
   },
   "outputs": [
    {
     "data": {
      "image/png": "[encoded data removed]",
      "text/plain": [
       "<Figure size 640x480 with 1 Axes>"
      ]
     },
     "metadata": {},
     "output_type": "display_data"
    }
   ],
   "source": [
    "##simple barchart using matplotlib \n",
    "df_copy['Sector'].value_counts().plot(kind='bar')\n",
    "\n",
    "\n",
    "plt.xlabel('Sectors')\n",
    "plt.ylabel('Occurency')\n",
    "plt.title('Sectors x occurency')\n",
    "\n",
    "plt.show()\n"
   ]
  },
  {
   "cell_type": "markdown",
   "id": "81b82297",
   "metadata": {},
   "source": [
    "Great. IT and business are responsible for the majority, by the looks of it. However, the wide range of options from different sectors is quite interesting."
   ]
  },
  {
   "cell_type": "markdown",
   "id": "5e9a1e8f",
   "metadata": {},
   "source": [
    "2-Let's now take a look at Companies Size.\n",
    "\n"
   ]
  },
  {
   "cell_type": "code",
   "execution_count": 16,
   "id": "b19ee178",
   "metadata": {},
   "outputs": [
    {
     "data": {
      "text/plain": [
       "51 to 200 employees        382\n",
       "10000+ employees           369\n",
       "1001 to 5000 employees     342\n",
       "1 to 50 employees          262\n",
       "201 to 500 employees       235\n",
       "501 to 1000 employees      206\n",
       "5001 to 10000 employees     96\n",
       "Unknown                      8\n",
       "Name: Size, dtype: int64"
      ]
     },
     "execution_count": 16,
     "metadata": {},
     "output_type": "execute_result"
    }
   ],
   "source": [
    "df_copy['Size'].value_counts()"
   ]
  },
  {
   "cell_type": "code",
   "execution_count": 38,
   "id": "90b3032c",
   "metadata": {},
   "outputs": [
    {
     "data": {
      "image/png": "[encoded data removed]",
      "text/plain": [
       "<Figure size 640x480 with 1 Axes>"
      ]
     },
     "metadata": {},
     "output_type": "display_data"
    }
   ],
   "source": [
    "##again a simple chart using matplotlib. \n",
    "df_copy['Size'].value_counts().plot(kind='bar')\n",
    "\n",
    "plt.xlabel('Size')\n",
    "plt.ylabel('Employees')\n",
    "plt.title('Companies Size')\n",
    "\n",
    "plt.show()\n"
   ]
  },
  {
   "cell_type": "markdown",
   "id": "4a957aeb",
   "metadata": {},
   "source": [
    "3- Seeing quickly if there is a relationship between Rating and Industry. "
   ]
  },
  {
   "cell_type": "code",
   "execution_count": 18,
   "id": "ee0e9db4",
   "metadata": {},
   "outputs": [
    {
     "ename": "SyntaxError",
     "evalue": "invalid syntax (220496814.py, line 2)",
     "output_type": "error",
     "traceback": [
      "\u001b[1;36m  File \u001b[1;32m\"C:\\Windows\\Temp\\ipykernel_9020\\220496814.py\"\u001b[1;36m, line \u001b[1;32m2\u001b[0m\n\u001b[1;33m    pip install pycorr\u001b[0m\n\u001b[1;37m        ^\u001b[0m\n\u001b[1;31mSyntaxError\u001b[0m\u001b[1;31m:\u001b[0m invalid syntax\n"
     ]
    }
   ],
   "source": [
    "##pycorr is a simple VCramer stattiscal methodology library to calculate correlation between variables\n",
    "pip install pycorr"
   ]
  },
  {
   "cell_type": "code",
   "execution_count": 19,
   "id": "4c7a1f8d",
   "metadata": {},
   "outputs": [
    {
     "data": {
      "image/png": "[encoded data removed]",
      "text/plain": [
       "<Figure size 800x800 with 2 Axes>"
      ]
     },
     "metadata": {},
     "output_type": "display_data"
    }
   ],
   "source": [
    "\n",
    "from pycorrcat.pycorrcat import plot_corr, corr_matrix\n",
    "\n",
    "correlation_matrix = corr_matrix(df, ['Rating', 'Industry'])\n",
    "\n",
    "fig, ax = plt.subplots(figsize=[8,8])\n",
    "ax = plot_corr(df, ['Rating','Industry'])\n",
    "ax.set_title('Rating and Industry correlation', size=20);"
   ]
  },
  {
   "cell_type": "markdown",
   "id": "d01cfa2a",
   "metadata": {},
   "source": [
    "0.23 = no, there is no relatinship"
   ]
  },
  {
   "cell_type": "markdown",
   "id": "fb5b609f",
   "metadata": {},
   "source": [
    "4-Let's see how many positions for 'Junior Data Analyst' we can find."
   ]
  },
  {
   "cell_type": "code",
   "execution_count": 20,
   "id": "3907d27e",
   "metadata": {},
   "outputs": [
    {
     "data": {
      "text/plain": [
       "Data Analyst                                                                    333\n",
       "Senior Data Analyst                                                              77\n",
       "Junior Data Analyst                                                              30\n",
       "Business Data Analyst                                                            25\n",
       "Data Analyst Junior                                                              17\n",
       "                                                                               ... \n",
       "Data Operations Analyst                                                           1\n",
       "Data Analyst, Operations Engineering                                              1\n",
       "Data Analyst, Tax (Affordable Care Act) (ACA) (Manager) (Multiple Positions)      1\n",
       "Tableau Developer/Data Analyst                                                    1\n",
       "Senior Quality Data Analyst                                                       1\n",
       "Name: Job Title, Length: 1113, dtype: int64"
      ]
     },
     "execution_count": 20,
     "metadata": {},
     "output_type": "execute_result"
    }
   ],
   "source": [
    "df_copy['Job Title'].value_counts()"
   ]
  },
  {
   "cell_type": "code",
   "execution_count": 21,
   "id": "dd9f2568",
   "metadata": {},
   "outputs": [],
   "source": [
    "junior_denominations = ['junior', 'jr', 'jr.']\n",
    "junior_rows = np.array([])\n",
    "\n",
    "##creating an empty array"
   ]
  },
  {
   "cell_type": "code",
   "execution_count": 22,
   "id": "b5204fb6",
   "metadata": {},
   "outputs": [],
   "source": [
    "for idx in df_copy.index:\n",
    "  if 'junior' in df_copy.loc[idx, 'Job Title'].lower():\n",
    "    junior_rows = np.append(idx, junior_rows)\n",
    "    \n",
    "##iterating the rows of the dataframe and placing what was found in the previously created empty array    "
   ]
  },
  {
   "cell_type": "code",
   "execution_count": 23,
   "id": "96fb6d41",
   "metadata": {},
   "outputs": [
    {
     "name": "stdout",
     "output_type": "stream",
     "text": [
      "This dataset has 56 results with Junior and similar denominations.\n"
     ]
    }
   ],
   "source": [
    "num_junior_rows = len(junior_rows)\n",
    "print(f'This dataset has {num_junior_rows} results with Junior and similar denominations.')\n"
   ]
  },
  {
   "cell_type": "markdown",
   "id": "6ebc819f",
   "metadata": {},
   "source": [
    "To be more accurate: "
   ]
  },
  {
   "cell_type": "code",
   "execution_count": 25,
   "id": "3b117fa3",
   "metadata": {},
   "outputs": [
    {
     "name": "stdout",
     "output_type": "stream",
     "text": [
      "2.95% of the job offers are explicitly for juniors/beginners.\n"
     ]
    }
   ],
   "source": [
    "num_junior_rows = len(junior_rows)\n",
    "total_rows = len(df_copy.index)\n",
    "percent_junior_rows = (num_junior_rows / total_rows) * 100\n",
    "print(f'{percent_junior_rows:.2f}% of the job offers are explicitly for juniors/beginners.')"
   ]
  },
  {
   "cell_type": "markdown",
   "id": "3734127a",
   "metadata": {},
   "source": [
    "5- Relationsheep between salary and revenue"
   ]
  },
  {
   "cell_type": "markdown",
   "id": "12c5b640",
   "metadata": {},
   "source": [
    "Here I want to use linear regression to see if there is a relationship between revenue and salary estimate.The challenge was the data types conversion. At the end, Was not necessay to verify using regression. That is the important of Data Transformation and Analysis : I could already write complex codes and apply statistics to analyze my data. Not at all necessary :)"
   ]
  },
  {
   "cell_type": "code",
   "execution_count": 27,
   "id": "11aa9d28",
   "metadata": {},
   "outputs": [],
   "source": [
    "revenue_ranges = ['Unknown / Non-Applicable', '$100 to $500 million (USD)', '$50 to $100 million (USD)', '$10+ billion (USD)', '-1', '$10 to $25 million (USD)', \n",
    "                  '$2 to $5 billion (USD)', '$1 to $5 million (USD)', '$25 to $50 million (USD)', 'Less than $1 million (USD)', '$1 to $2 billion (USD)',\n",
    "                    '$500 million to $1 billion (USD)', '$5 to $10 million (USD)', '$5 to $10 billion (USD)']\n",
    "revenue_values = [0, 300, 75, 20000, -1, 17.5, 2500, 3, 37.5, 0.5, 1500, 750, 7.5, 7500]\n",
    "df_copy[\"Middle_Revenue\"] = df_copy[\"Revenue\"].map(dict(zip(revenue_ranges, revenue_values)))"
   ]
  },
  {
   "cell_type": "code",
   "execution_count": 28,
   "id": "b49eaac6",
   "metadata": {},
   "outputs": [],
   "source": [
    "import re\n",
    "salary_estimate_middle = []\n",
    "for salary_range in df_copy[\"Salary Estimate\"]:\n",
    "    salary_values = re.findall('\\d+', salary_range)\n",
    "    if len(salary_values) >= 2:\n",
    "        lower_bound = int(salary_values[0])\n",
    "        upper_bound = int(salary_values[1])\n",
    "        midpoint = (lower_bound + upper_bound) / 2\n",
    "        salary_estimate_middle.append(midpoint)\n",
    "    else:\n",
    "        salary_estimate_middle.append(None)\n",
    "df_copy['Middle Salary Estimate'] = salary_estimate_middle\n",
    "\n",
    "##Finding the midpoint in this question was the most effective solution. \n",
    "##Initially I tried to extract only the numerical values of the object data (salary estimate) and put (Renevue) in bins, \n",
    "##but I found that this method allowed me to train the writing of a more accurate and more direct code \n",
    "##and the end result was quite similar."
   ]
  },
  {
   "cell_type": "code",
   "execution_count": 29,
   "id": "370fc1b1",
   "metadata": {},
   "outputs": [
    {
     "data": {
      "text/html": [
       "<div>\n",
       "<style scoped>\n",
       "    .dataframe tbody tr th:only-of-type {\n",
       "        vertical-align: middle;\n",
       "    }\n",
       "\n",
       "    .dataframe tbody tr th {\n",
       "        vertical-align: top;\n",
       "    }\n",
       "\n",
       "    .dataframe thead th {\n",
       "        text-align: right;\n",
       "    }\n",
       "</style>\n",
       "<table border=\"1\" class=\"dataframe\">\n",
       "  <thead>\n",
       "    <tr style=\"text-align: right;\">\n",
       "      <th></th>\n",
       "      <th>Middle Salary Estimate</th>\n",
       "      <th>Middle_Revenue</th>\n",
       "    </tr>\n",
       "  </thead>\n",
       "  <tbody>\n",
       "    <tr>\n",
       "      <th>0</th>\n",
       "      <td>51.5</td>\n",
       "      <td>300.0</td>\n",
       "    </tr>\n",
       "    <tr>\n",
       "      <th>1</th>\n",
       "      <td>51.5</td>\n",
       "      <td>2500.0</td>\n",
       "    </tr>\n",
       "    <tr>\n",
       "      <th>2</th>\n",
       "      <td>51.5</td>\n",
       "      <td>0.0</td>\n",
       "    </tr>\n",
       "    <tr>\n",
       "      <th>3</th>\n",
       "      <td>51.5</td>\n",
       "      <td>75.0</td>\n",
       "    </tr>\n",
       "    <tr>\n",
       "      <th>4</th>\n",
       "      <td>51.5</td>\n",
       "      <td>300.0</td>\n",
       "    </tr>\n",
       "    <tr>\n",
       "      <th>5</th>\n",
       "      <td>51.5</td>\n",
       "      <td>0.0</td>\n",
       "    </tr>\n",
       "    <tr>\n",
       "      <th>6</th>\n",
       "      <td>51.5</td>\n",
       "      <td>0.0</td>\n",
       "    </tr>\n",
       "    <tr>\n",
       "      <th>7</th>\n",
       "      <td>51.5</td>\n",
       "      <td>300.0</td>\n",
       "    </tr>\n",
       "    <tr>\n",
       "      <th>8</th>\n",
       "      <td>51.5</td>\n",
       "      <td>1500.0</td>\n",
       "    </tr>\n",
       "    <tr>\n",
       "      <th>9</th>\n",
       "      <td>51.5</td>\n",
       "      <td>0.0</td>\n",
       "    </tr>\n",
       "  </tbody>\n",
       "</table>\n",
       "</div>"
      ],
      "text/plain": [
       "   Middle Salary Estimate  Middle_Revenue\n",
       "0                    51.5           300.0\n",
       "1                    51.5          2500.0\n",
       "2                    51.5             0.0\n",
       "3                    51.5            75.0\n",
       "4                    51.5           300.0\n",
       "5                    51.5             0.0\n",
       "6                    51.5             0.0\n",
       "7                    51.5           300.0\n",
       "8                    51.5          1500.0\n",
       "9                    51.5             0.0"
      ]
     },
     "execution_count": 29,
     "metadata": {},
     "output_type": "execute_result"
    }
   ],
   "source": [
    "df_copy[['Middle Salary Estimate', 'Middle_Revenue']].head(10)"
   ]
  },
  {
   "cell_type": "code",
   "execution_count": 30,
   "id": "3e840ae2",
   "metadata": {},
   "outputs": [
    {
     "data": {
      "image/png": "[encoded data removed]",
      "text/plain": [
       "<Figure size 640x480 with 1 Axes>"
      ]
     },
     "metadata": {},
     "output_type": "display_data"
    }
   ],
   "source": [
    "df_copy.plot.scatter(x='Middle Salary Estimate', y='Middle_Revenue')\n",
    "plt.show()"
   ]
  },
  {
   "cell_type": "code",
   "execution_count": 31,
   "id": "b7ea0161",
   "metadata": {},
   "outputs": [
    {
     "data": {
      "text/html": [
       "<div>\n",
       "<style scoped>\n",
       "    .dataframe tbody tr th:only-of-type {\n",
       "        vertical-align: middle;\n",
       "    }\n",
       "\n",
       "    .dataframe tbody tr th {\n",
       "        vertical-align: top;\n",
       "    }\n",
       "\n",
       "    .dataframe thead th {\n",
       "        text-align: right;\n",
       "    }\n",
       "</style>\n",
       "<table border=\"1\" class=\"dataframe\">\n",
       "  <thead>\n",
       "    <tr style=\"text-align: right;\">\n",
       "      <th></th>\n",
       "      <th>Middle Salary Estimate</th>\n",
       "      <th>Middle_Revenue</th>\n",
       "    </tr>\n",
       "  </thead>\n",
       "  <tbody>\n",
       "    <tr>\n",
       "      <th>Middle Salary Estimate</th>\n",
       "      <td>1.000000</td>\n",
       "      <td>-0.022053</td>\n",
       "    </tr>\n",
       "    <tr>\n",
       "      <th>Middle_Revenue</th>\n",
       "      <td>-0.022053</td>\n",
       "      <td>1.000000</td>\n",
       "    </tr>\n",
       "  </tbody>\n",
       "</table>\n",
       "</div>"
      ],
      "text/plain": [
       "                        Middle Salary Estimate  Middle_Revenue\n",
       "Middle Salary Estimate                1.000000       -0.022053\n",
       "Middle_Revenue                       -0.022053        1.000000"
      ]
     },
     "execution_count": 31,
     "metadata": {},
     "output_type": "execute_result"
    }
   ],
   "source": [
    "df_copy[['Middle Salary Estimate', 'Middle_Revenue']].corr()"
   ]
  },
  {
   "cell_type": "markdown",
   "id": "e8c85f6c",
   "metadata": {},
   "source": [
    "## so, well, it looks like there is no relationship between revenue and salary on avarage. "
   ]
  },
  {
   "cell_type": "markdown",
   "id": "1dc9d49d",
   "metadata": {},
   "source": [
    "## Let's take a look if 'remote' and 'homeoffice' are commom words on the job description\n",
    "\n",
    "for that, I am going to use regex for the first time. Regex is a regular expression that aims to identify patterns in a text. Very useful for my challenge."
   ]
  },
  {
   "cell_type": "code",
   "execution_count": 32,
   "id": "5ddc9446",
   "metadata": {},
   "outputs": [
    {
     "name": "stdout",
     "output_type": "stream",
     "text": [
      "   Unnamed: 0                                          Job Title  \\\n",
      "0           0  Data Analyst, Center on Immigration and Justic...   \n",
      "1           1                               Quality Data Analyst   \n",
      "2           2  Senior Data Analyst, Insights & Analytics Team...   \n",
      "3           3                                       Data Analyst   \n",
      "4           4                             Reporting Data Analyst   \n",
      "\n",
      "              Salary Estimate  \\\n",
      "0  $37K-$66K (Glassdoor est.)   \n",
      "1  $37K-$66K (Glassdoor est.)   \n",
      "2  $37K-$66K (Glassdoor est.)   \n",
      "3  $37K-$66K (Glassdoor est.)   \n",
      "4  $37K-$66K (Glassdoor est.)   \n",
      "\n",
      "                                     Job Description  Rating  \\\n",
      "0  Are you eager to roll up your sleeves and harn...     3.2   \n",
      "1  Overview\\n\\nProvides analytical and technical ...     3.8   \n",
      "2  We’re looking for a Senior Data Analyst who ha...     3.4   \n",
      "3  Requisition NumberRR-0001939\\nRemote:Yes\\nWe c...     4.1   \n",
      "4  ABOUT FANDUEL GROUP\\n\\nFanDuel Group is a worl...     3.9   \n",
      "\n",
      "                              Company Name      Location  Headquarters  \\\n",
      "0           Vera Institute of Justice\\n3.2  New York, NY  New York, NY   \n",
      "1  Visiting Nurse Service of New York\\n3.8  New York, NY  New York, NY   \n",
      "2                         Squarespace\\n3.4  New York, NY  New York, NY   \n",
      "3                            Celerity\\n4.1  New York, NY    McLean, VA   \n",
      "4                             FanDuel\\n3.9  New York, NY  New York, NY   \n",
      "\n",
      "                     Size  Founded               Type of ownership  \\\n",
      "0    201 to 500 employees     1961          Nonprofit Organization   \n",
      "1        10000+ employees     1893          Nonprofit Organization   \n",
      "2  1001 to 5000 employees     2003               Company - Private   \n",
      "3    201 to 500 employees     2002  Subsidiary or Business Segment   \n",
      "4   501 to 1000 employees     2009               Company - Private   \n",
      "\n",
      "                           Industry                            Sector  \\\n",
      "0                 Social Assistance                        Non-Profit   \n",
      "1  Health Care Services & Hospitals                       Health Care   \n",
      "2                          Internet            Information Technology   \n",
      "3                       IT Services            Information Technology   \n",
      "4               Sports & Recreation  Arts, Entertainment & Recreation   \n",
      "\n",
      "                      Revenue Competitors Easy Apply  Middle_Revenue  \\\n",
      "0  $100 to $500 million (USD)          -1       True           300.0   \n",
      "1      $2 to $5 billion (USD)          -1         -1          2500.0   \n",
      "2    Unknown / Non-Applicable     GoDaddy         -1             0.0   \n",
      "3   $50 to $100 million (USD)          -1         -1            75.0   \n",
      "4  $100 to $500 million (USD)  DraftKings       True           300.0   \n",
      "\n",
      "   Middle Salary Estimate        new column  \n",
      "0                    51.5                []  \n",
      "1                    51.5                []  \n",
      "2                    51.5                []  \n",
      "3                    51.5  [remote, remote]  \n",
      "4                    51.5                []  \n"
     ]
    }
   ],
   "source": [
    "default = re.compile(r'homeoffice possible|home-office|remote|hybrid|onsite|on-site')\n",
    "df_copy['new column'] = df_copy['Job Description'].apply(lambda x:default.findall(str(x)))\n",
    "print(df_copy.head())\n",
    "\n",
    "##I also used the lambda function because, in this case, I do not need to use the def function, since I am not going to run \n",
    "##it again. Lambda function is trully powerful and useful in these situations. "
   ]
  },
  {
   "cell_type": "code",
   "execution_count": 33,
   "id": "5ac7cb9d",
   "metadata": {},
   "outputs": [
    {
     "name": "stdout",
     "output_type": "stream",
     "text": [
      "[]                                          0.905789\n",
      "[remote]                                    0.048947\n",
      "[on-site]                                   0.014211\n",
      "[onsite]                                    0.011579\n",
      "[remote, remote]                            0.006316\n",
      "[remote, onsite]                            0.002105\n",
      "[onsite, remote]                            0.002105\n",
      "[onsite, onsite]                            0.001579\n",
      "[remote, remote, remote]                    0.001579\n",
      "[hybrid]                                    0.001579\n",
      "[on-site, on-site]                          0.001053\n",
      "[hybrid, hybrid]                            0.000526\n",
      "[remote, remote, onsite]                    0.000526\n",
      "[remote, onsite, remote, remote]            0.000526\n",
      "[remote, on-site]                           0.000526\n",
      "[onsite, on-site]                           0.000526\n",
      "[onsite, remote, onsite, onsite, remote]    0.000526\n",
      "Name: new column, dtype: float64\n"
     ]
    }
   ],
   "source": [
    "freq_rel = df_copy['new column'].value_counts(normalize=True)\n",
    "print(freq_rel)"
   ]
  },
  {
   "cell_type": "markdown",
   "id": "d5bddd87",
   "metadata": {},
   "source": [
    "well, looks like remote work is not that explicited on the job description. Another searches, using different words could show us if a remote job would be at least considered. \n",
    "\n",
    "Now, the last question: I was curious to know whether, in general, companies use 'easy apply' or not, and if so, when they were founded. "
   ]
  },
  {
   "cell_type": "code",
   "execution_count": 37,
   "id": "1b80ea22",
   "metadata": {},
   "outputs": [
    {
     "data": {
      "text/plain": [
       "-1      0.957895\n",
       "True    0.042105\n",
       "Name: Easy Apply, dtype: float64"
      ]
     },
     "execution_count": 37,
     "metadata": {},
     "output_type": "execute_result"
    }
   ],
   "source": [
    "df_copy['Easy Apply'].value_counts(normalize=True)"
   ]
  },
  {
   "cell_type": "markdown",
   "id": "69309c25",
   "metadata": {},
   "source": [
    "Wonderful. Only 4% of the companies are using the easy apply tool. Let's check if through a boxplot we can see if there is a pattern between companies that use easy apply and companies that do not use in terms of age"
   ]
  },
  {
   "cell_type": "code",
   "execution_count": 36,
   "id": "0674e262",
   "metadata": {},
   "outputs": [
    {
     "data": {
      "image/png": "[encoded data removed]",
      "text/plain": [
       "<Figure size 640x480 with 1 Axes>"
      ]
     },
     "metadata": {},
     "output_type": "display_data"
    }
   ],
   "source": [
    "sns.boxplot(x='Easy Apply', y='Founded', data=df_copy, showfliers=False, whis=[5,95], color='yellow', medianprops={'color':'white'})\n",
    "plt.show()"
   ]
  },
  {
   "cell_type": "markdown",
   "id": "2ee2c0e4",
   "metadata": {},
   "source": [
    "because of the large data imbalance, boxplot is not visually beautiful or accurate but it is clear that the companies that allow easy apply were founded more recently than companies that do not allow. \n",
    "Better handling of the data could answer this question more accurately, but that's good for my level of curiosity at the moment.Well, well done "
   ]
  }
 ],
 "metadata": {
  "kernelspec": {
   "display_name": "Python 3 (ipykernel)",
   "language": "python",
   "name": "python3"
  },
  "language_info": {
   "codemirror_mode": {
    "name": "ipython",
    "version": 3
   },
   "file_extension": ".py",
   "mimetype": "text/x-python",
   "name": "python",
   "nbconvert_exporter": "python",
   "pygments_lexer": "ipython3",
   "version": "3.9.13"
  }
 },
 "nbformat": 4,
 "nbformat_minor": 5
}
